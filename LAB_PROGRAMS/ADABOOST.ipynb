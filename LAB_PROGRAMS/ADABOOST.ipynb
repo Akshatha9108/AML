{
 "cells": [
  {
   "cell_type": "code",
   "execution_count": 1,
   "id": "1c47c602",
   "metadata": {},
   "outputs": [],
   "source": [
    "#LOAD LIBRARIES\n",
    "from sklearn.ensemble import AdaBoostClassifier\n",
    "from sklearn import datasets\n",
    "#import train_test_split function\n",
    "from sklearn.model_selection import train_test_split\n",
    "#import sckit-learn metrics module for accuracy calculation\n",
    "from sklearn import metrics"
   ]
  },
  {
   "cell_type": "code",
   "execution_count": 2,
   "id": "d8463dad",
   "metadata": {},
   "outputs": [],
   "source": [
    "#load data\n",
    "iris=datasets.load_iris()\n",
    "X=iris.data\n",
    "y=iris.target"
   ]
  },
  {
   "cell_type": "code",
   "execution_count": 3,
   "id": "76b34e39",
   "metadata": {},
   "outputs": [],
   "source": [
    "#Create training/ test data split\n",
    "X_train,X_test,y_train,y_test=train_test_split(X,y,test_size=0.3) #70% trainng and 30% test"
   ]
  },
  {
   "cell_type": "code",
   "execution_count": 4,
   "id": "8b1d23d0",
   "metadata": {},
   "outputs": [],
   "source": [
    "#build a model with default as Decision Tree base learner\n",
    "#create adaboosst classifer object\n",
    "abc=AdaBoostClassifier(n_estimators=50,\n",
    "                      learning_rate=1)\n",
    "#Train Adaboost Classifer\n",
    "model=abc.fit(X_train,y_train)\n",
    "\n",
    "#Predict the response for test dataset\n",
    "y_pred=model.predict(X_test)"
   ]
  },
  {
   "cell_type": "code",
   "execution_count": 5,
   "id": "5fac7291",
   "metadata": {},
   "outputs": [
    {
     "name": "stdout",
     "output_type": "stream",
     "text": [
      "Accuracy: 0.9333333333333333\n"
     ]
    }
   ],
   "source": [
    "#Model accuracy,how often is the classier correct\n",
    "print(\"Accuracy:\",metrics.accuracy_score(y_test,y_pred))"
   ]
  },
  {
   "cell_type": "code",
   "execution_count": null,
   "id": "3ecf3aad",
   "metadata": {},
   "outputs": [],
   "source": []
  },
  {
   "cell_type": "markdown",
   "id": "d4c72f5b",
   "metadata": {},
   "source": [
    "# Using different base learners as SVC"
   ]
  },
  {
   "cell_type": "code",
   "execution_count": 6,
   "id": "728eb9b9",
   "metadata": {},
   "outputs": [],
   "source": [
    "#LOAD LIBRARIES\n",
    "from sklearn.ensemble import AdaBoostClassifier\n",
    "\n",
    "#import support vector classifier\n",
    "from sklearn.svm import SVC\n",
    "\n",
    "#import sckit-learn metrics module for accuracy calculation\n",
    "from sklearn import metrics\n",
    "svc=SVC(probability=True,kernel='linear')\n",
    "\n",
    "#create adabooAdaBoostClassifier\n",
    "model=abc.fit(X_train,y_train)\n",
    "\n",
    "#prexict the response for test dataset\n",
    "y_pred=model.predict(X_test)"
   ]
  },
  {
   "cell_type": "code",
   "execution_count": 7,
   "id": "6209abc6",
   "metadata": {},
   "outputs": [
    {
     "name": "stdout",
     "output_type": "stream",
     "text": [
      "Accuracy: 0.9333333333333333\n"
     ]
    }
   ],
   "source": [
    "#Model accuracy,how often is the classier correct\n",
    "print(\"Accuracy:\",metrics.accuracy_score(y_test,y_pred))"
   ]
  },
  {
   "cell_type": "code",
   "execution_count": null,
   "id": "9a32f155",
   "metadata": {},
   "outputs": [],
   "source": []
  }
 ],
 "metadata": {
  "kernelspec": {
   "display_name": "Python 3 (ipykernel)",
   "language": "python",
   "name": "python3"
  },
  "language_info": {
   "codemirror_mode": {
    "name": "ipython",
    "version": 3
   },
   "file_extension": ".py",
   "mimetype": "text/x-python",
   "name": "python",
   "nbconvert_exporter": "python",
   "pygments_lexer": "ipython3",
   "version": "3.9.16"
  }
 },
 "nbformat": 4,
 "nbformat_minor": 5
}
