{
 "cells": [
  {
   "cell_type": "code",
   "execution_count": 1,
   "id": "a9f44686",
   "metadata": {},
   "outputs": [],
   "source": [
    "from bs4 import BeautifulSoup\n",
    "html_content=\"\"\"\n",
    "<html>\n",
    "<head>\n",
    "<title>Example</title>\n",
    "</head>\n",
    "<body>\n",
    "<p class='paragraph'>this is a paragraph.</p>\n",
    "<p class='paragraph'>this is a paragraph.2</p>\n",
    "<ul>\n",
    "<li>Item 1</li>\n",
    "<li>Item 2</li>\n",
    "</ul>\n",
    "</body>\n",
    "</html>\n",
    "\"\"\"\n",
    "soup=BeautifulSoup(html_content,'html.parser')"
   ]
  },
  {
   "cell_type": "code",
   "execution_count": 2,
   "id": "097a3f63",
   "metadata": {},
   "outputs": [
    {
     "data": {
      "text/plain": [
       "'Example'"
      ]
     },
     "execution_count": 2,
     "metadata": {},
     "output_type": "execute_result"
    }
   ],
   "source": [
    "title=soup.title.text\n",
    "title"
   ]
  },
  {
   "cell_type": "code",
   "execution_count": 3,
   "id": "2c81b586",
   "metadata": {},
   "outputs": [
    {
     "data": {
      "text/plain": [
       "'this is a paragraph.'"
      ]
     },
     "execution_count": 3,
     "metadata": {},
     "output_type": "execute_result"
    }
   ],
   "source": [
    "para=soup.p\n",
    "para.text"
   ]
  },
  {
   "cell_type": "code",
   "execution_count": 4,
   "id": "24fff885",
   "metadata": {},
   "outputs": [
    {
     "data": {
      "text/plain": [
       "<p class=\"paragraph\">this is a paragraph.</p>"
      ]
     },
     "execution_count": 4,
     "metadata": {},
     "output_type": "execute_result"
    }
   ],
   "source": [
    "paragraphs=soup.find('p')\n",
    "paragraphs"
   ]
  },
  {
   "cell_type": "code",
   "execution_count": 5,
   "id": "c8c4e8d0",
   "metadata": {},
   "outputs": [],
   "source": [
    "#parent sibling\n",
    "\n",
    "from bs4 import BeautifulSoup\n",
    "html_doc=\"\"\"\n",
    "<html>\n",
    "<body>\n",
    "<div class='my_class'>\n",
    "<h1>welcome to BeautifulSoup</h1>\n",
    "<p>this is a example paragraph</p>\n",
    "<ul>\n",
    "<li>Item 1</li>\n",
    "<li>Item 2</li>\n",
    "</ul>\n",
    "</body>\n",
    "</html>\n",
    "\"\"\"\n",
    "\n",
    "#parser object\n",
    "soup=BeautifulSoup(html_doc,'html.parser')"
   ]
  },
  {
   "cell_type": "code",
   "execution_count": 6,
   "id": "ffffef06",
   "metadata": {},
   "outputs": [
    {
     "name": "stdout",
     "output_type": "stream",
     "text": [
      "<div class=\"my_class\">\n",
      "<h1>welcome to BeautifulSoup</h1>\n",
      "<p>this is a example paragraph</p>\n",
      "<ul>\n",
      "<li>Item 1</li>\n",
      "<li>Item 2</li>\n",
      "</ul>\n",
      "</div>\n"
     ]
    }
   ],
   "source": [
    "#Accessing parent element\n",
    "h1=soup.h1\n",
    "parent_div=h1.parent\n",
    "print(parent_div)"
   ]
  },
  {
   "cell_type": "code",
   "execution_count": 7,
   "id": "07850fba",
   "metadata": {},
   "outputs": [
    {
     "name": "stdout",
     "output_type": "stream",
     "text": [
      "<h1>welcome to BeautifulSoup</h1>\n"
     ]
    }
   ],
   "source": [
    "para=soup.p\n",
    "prev_sibling=para.find_previous_sibling()\n",
    "print(prev_sibling)"
   ]
  },
  {
   "cell_type": "code",
   "execution_count": 8,
   "id": "35751ac7",
   "metadata": {},
   "outputs": [
    {
     "name": "stdout",
     "output_type": "stream",
     "text": [
      "<h1>welcome to BeautifulSoup</h1>\n"
     ]
    }
   ],
   "source": [
    "ul=soup.p\n",
    "next_sibling=para.find_next_sibling()\n",
    "print(prev_sibling)"
   ]
  },
  {
   "cell_type": "code",
   "execution_count": 9,
   "id": "59135faa",
   "metadata": {},
   "outputs": [
    {
     "name": "stdout",
     "output_type": "stream",
     "text": [
      "None\n"
     ]
    }
   ],
   "source": [
    "#accessing next sibling element\n",
    "ul=soup.ul\n",
    "next_sibling=ul.find_next_sibling()\n",
    "print(next_sibling)"
   ]
  },
  {
   "cell_type": "markdown",
   "id": "3d16c0a4",
   "metadata": {},
   "source": [
    "# Child Navigator"
   ]
  },
  {
   "cell_type": "code",
   "execution_count": 10,
   "id": "ce3bc103",
   "metadata": {},
   "outputs": [
    {
     "name": "stdout",
     "output_type": "stream",
     "text": [
      "\n",
      "\n",
      "<h1>welcome to BeautifulSoup</h1>\n",
      "\n",
      "\n",
      "<p>this is a example paragraph</p>\n",
      "\n",
      "\n",
      "<ul>\n",
      "<li>Item 1</li>\n",
      "<li>Item 2</li>\n",
      "</ul>\n",
      "\n",
      "\n"
     ]
    }
   ],
   "source": [
    "#Accessing Child Elements\n",
    "div=soup.div\n",
    "children=div.children\n",
    "for child in children:\n",
    "    print(child)"
   ]
  },
  {
   "cell_type": "code",
   "execution_count": 11,
   "id": "4248d96f",
   "metadata": {},
   "outputs": [
    {
     "data": {
      "text/plain": [
       "[<div class=\"my_class\">\n",
       " <h1>welcome to BeautifulSoup</h1>\n",
       " <p>this is a example paragraph</p>\n",
       " <ul>\n",
       " <li>Item 1</li>\n",
       " <li>Item 2</li>\n",
       " </ul>\n",
       " </div>]"
      ]
     },
     "execution_count": 11,
     "metadata": {},
     "output_type": "execute_result"
    }
   ],
   "source": [
    "elements=soup.find_all('div',class_='my_class')\n",
    "elements"
   ]
  },
  {
   "cell_type": "code",
   "execution_count": null,
   "id": "3f3846dc",
   "metadata": {},
   "outputs": [],
   "source": []
  }
 ],
 "metadata": {
  "kernelspec": {
   "display_name": "Python 3 (ipykernel)",
   "language": "python",
   "name": "python3"
  },
  "language_info": {
   "codemirror_mode": {
    "name": "ipython",
    "version": 3
   },
   "file_extension": ".py",
   "mimetype": "text/x-python",
   "name": "python",
   "nbconvert_exporter": "python",
   "pygments_lexer": "ipython3",
   "version": "3.9.16"
  }
 },
 "nbformat": 4,
 "nbformat_minor": 5
}
