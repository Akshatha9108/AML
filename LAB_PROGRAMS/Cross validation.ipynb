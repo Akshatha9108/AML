{
 "cells": [
  {
   "cell_type": "code",
   "execution_count": 1,
   "id": "62c277ca",
   "metadata": {},
   "outputs": [],
   "source": [
    "from sklearn.model_selection import cross_val_score\n",
    "from sklearn.tree import DecisionTreeClassifier\n",
    "from sklearn.datasets import load_iris\n",
    "\n",
    "#load iris dataset\n",
    "iris=load_iris()\n",
    "X=iris.data\n",
    "y=iris.target\n",
    "\n",
    "#create a decision tree classifier\n",
    "clf=DecisionTreeClassifier()"
   ]
  },
  {
   "cell_type": "code",
   "execution_count": 5,
   "id": "67adc438",
   "metadata": {},
   "outputs": [
    {
     "name": "stdout",
     "output_type": "stream",
     "text": [
      "mean Accuracy: 0.9666666666666668\n"
     ]
    }
   ],
   "source": [
    "#perform 5-fold cross-validation and compute the mean accuracy\n",
    "scores=cross_val_score(clf,X,y)\n",
    "mean_accuracy=scores.mean()\n",
    "print(\"mean Accuracy:\",mean_accuracy)"
   ]
  },
  {
   "cell_type": "code",
   "execution_count": 7,
   "id": "c4f9bff0",
   "metadata": {},
   "outputs": [
    {
     "name": "stdout",
     "output_type": "stream",
     "text": [
      "mean Accuracy: 0.96\n"
     ]
    }
   ],
   "source": [
    "# perform 5-fold cross-validation and compute the mean accuracy\n",
    "scores=cross_val_score(clf,X,y,cv=10)\n",
    "mean_accuracy=scores.mean()\n",
    "print(\"mean Accuracy:\",mean_accuracy)"
   ]
  },
  {
   "cell_type": "code",
   "execution_count": null,
   "id": "d700bd8a",
   "metadata": {},
   "outputs": [],
   "source": []
  }
 ],
 "metadata": {
  "kernelspec": {
   "display_name": "Python 3 (ipykernel)",
   "language": "python",
   "name": "python3"
  },
  "language_info": {
   "codemirror_mode": {
    "name": "ipython",
    "version": 3
   },
   "file_extension": ".py",
   "mimetype": "text/x-python",
   "name": "python",
   "nbconvert_exporter": "python",
   "pygments_lexer": "ipython3",
   "version": "3.9.16"
  }
 },
 "nbformat": 4,
 "nbformat_minor": 5
}
